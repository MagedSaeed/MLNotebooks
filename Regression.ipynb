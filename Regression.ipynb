{
 "cells": [
  {
   "cell_type": "markdown",
   "metadata": {},
   "source": [
    "# Regression\n",
    "\n",
    "Regression is a statistical concept studying any existing relationships between two or more variables. Machine Learning uses Regression to derive models for the sake of analysis, predictions and classifications of a data in interest.<br>\n",
    "Usually, in regression problems, there is one dependent variable with at least one or more independent variables. The dependend variable is refered to as **predicted, label, class, or cluster** where the independed varialbe(s) is refered to as **predector(s), regressor(s), or featrue(s)**."
   ]
  },
  {
   "cell_type": "markdown",
   "metadata": {},
   "source": [
    "Data is, usually, presented as an nd_array of featrues where each column holds a feature of the data and each row holds one instance from each feature. Classes, or depended vairable, are provided as a vector of values. The feature matrix is commonly known as ** Design Matrix**.<br>\n",
    "It is important to say that Machine Learning techniques are applied to a sample from the space of the universe of the given data. If the whole universe of the data is available, then one can drow a function of order n-1, where n is the _universe size_, to pass by all the points of the data. Hence, it is not a learning problem rather than a calculus problem, in fact a tedious one!"
   ]
  },
  {
   "cell_type": "markdown",
   "metadata": {
    "scrolled": false
   },
   "source": [
    "This notebook tries to give a gentle introduction to the problem of regression in machine learning along with mathematical concepts underlying them. The code for implementing their algorithms is also availbel with a great help of Anaconda2 libraries."
   ]
  },
  {
   "cell_type": "markdown",
   "metadata": {
    "collapsed": true
   },
   "source": [
    "### Building Up an Example\n",
    "\n",
    "To start discussing linear regression, we should have an existing data to work on. Real dataset is, of course, preferable. There are large data houses where someone can target and play with. choosing a dataset is a critical decision! some of data available on the web might be corrupted, not properly collected, or some features are missin, therefore results are inappropriate or might have a weird sense.<br>\n",
    "There are plenty of online data resources such as, just to name a few, Kaggle, Wikipedia Google could, Amazon cloud and of course Github.\n",
    "This blog is useful to look at:\n",
    "https://www.dataquest.io/blog/free-datasets-for-projects/\n"
   ]
  },
  {
   "cell_type": "markdown",
   "metadata": {},
   "source": [
    "Fortunately, scikit learn library provides bunch of datasets ready to do analisys with.<br>\n",
    "I am going, However, to choose the dataset given in the course assignments for regression problems. That is, kc_house_data.csv. I am going to import it as Panda dataframe so that it is easy to manipulate by scikit and numpy algorithms. Althought there are many other alternatives, working with Pandas data frames seems to be more convenient and the first choice to come in mind. Moreover, some other libraries, i.e. graphlab, requires a licence!"
   ]
  },
  {
   "cell_type": "code",
   "execution_count": 1,
   "metadata": {
    "collapsed": false
   },
   "outputs": [],
   "source": [
    "# Load Pandas to read the csv file. You should have that file and the ipython file in the same directory.\n",
    "import pandas as pd\n",
    "\n",
    "# This is a pretty function from Ipython library. It can be used print many formats including images as well!!\n",
    "from IPython.display import display\n",
    "\n",
    "file_name = 'kc_house_data.csv'\n",
    "data = pd.read_csv(file_name)\n",
    "\n",
    "# You can visualize the data by un/commenting the following statement:\n",
    "#display(data)\n"
   ]
  },
  {
   "cell_type": "markdown",
   "metadata": {
    "collapsed": true
   },
   "source": [
    "### Linear Regression with only one variable\n",
    "\n",
    "Let us start our discussion of regression algorithms on data having only one independent variable. Suppose that you are given the following data:"
   ]
  },
  {
   "cell_type": "code",
   "execution_count": 2,
   "metadata": {
    "collapsed": false
   },
   "outputs": [],
   "source": [
    "simple_model = {'x':[11, 23, 17, 14, 25, 18, 16, 20], 'y':[77, 103, 85, 81, 111, 91, 83, 93]}\n",
    "simple_model_data_frame = pd.DataFrame(data=simple_model)\n",
    "\n",
    "#display(df_one_variable_reg)"
   ]
  },
  {
   "cell_type": "markdown",
   "metadata": {},
   "source": [
    "let us plot this data against the independent variable:"
   ]
  },
  {
   "cell_type": "code",
   "execution_count": 3,
   "metadata": {
    "collapsed": false,
    "scrolled": true
   },
   "outputs": [
    {
     "data": {
      "text/plain": [
       "[<matplotlib.lines.Line2D at 0x7f297ab91050>]"
      ]
     },
     "execution_count": 3,
     "metadata": {},
     "output_type": "execute_result"
    },
    {
     "data": {
      "image/png": "[encoded data removed]",
      "text/plain": [
       "<matplotlib.figure.Figure at 0x7f2984009a10>"
      ]
     },
     "metadata": {},
     "output_type": "display_data"
    }
   ],
   "source": [
    "import matplotlib.pyplot as plt\n",
    "%matplotlib inline\n",
    "\n",
    "plt.ylim(70,115)\n",
    "plt.plot(simple_model_data_frame['x'], simple_model_data_frame['y'], '+')"
   ]
  },
  {
   "cell_type": "markdown",
   "metadata": {},
   "source": [
    "for this simple dataset, a linear relationship between $x$ and $y$ is easily observed. _Is there a possibility to drow a line that matches all the $x$ points to their associated $y$ points?_ clearly the answer is _NO_. Data are not distributed uniformly along a straight line.\n",
    "\n",
    "However, there exists lines such that the difference between the true $y$ and the predictions values $\\hat{y}$ are minimal. This differene is refered to as __Residual Sum of error Squares or RSS.__\n",
    "\n",
    "**How to come up with such line??**\n",
    "\n",
    "to start deriving the equation, let us say that $\\hat{B_0}$ and $\\hat{B_1}$ represents the intercept and slope of the true model with minimal _RSS_. then:\n",
    "\n",
    "The sum of squares of errors between true values and that line is:"
   ]
  },
  {
   "cell_type": "markdown",
   "metadata": {},
   "source": [
    "$$S = \\sum_{i=1}^n \\epsilon^2 = \\sum_{i=1}^n(y_i - \\hat{y}_{i})^2$$\n",
    "OR\n",
    "$$S = \\sum_{i=1}^n \\epsilon^2 = \\sum_{i=1}^n(y_i - (B_0 +B_1x_i))^2$$"
   ]
  },
  {
   "cell_type": "markdown",
   "metadata": {},
   "source": [
    "This function is called the ** error or loss function**\n",
    "Here, we are squaring the error for two main reasons:\n",
    "- Some errors might be positives while others might be negatives. If we did not square them, they may cancel out each other by the summation.\n",
    "- By squaring the error, we can come up with a useful formula to derive the optimal values of slope and intercept. ($x^2$) function has a very nice property such that it has only one minimum , or maximum, point. Thus, it has a derivative of zero somewhere."
   ]
  },
  {
   "cell_type": "markdown",
   "metadata": {},
   "source": [
    "By optimizing error's parameters, we can reach to an optimal point for $S$ as follows.\n",
    "\n",
    "Our main objective is to find a zero RSS or a minimum RSS. Therefore, we can equate RSS to zero and take derivative for both sides. the following equations are obtained.\n",
    "\n",
    "So, for $B_0$:\n",
    "$$\\frac{\\partial S}{\\partial B_0} = -2\\sum_{i=1}^n(y_i - \\hat{B_0} - \\hat{B_1}x_i)$$\n",
    "\n",
    "and for $B_1$:\n",
    "$$\\frac{\\partial S}{\\partial B_1} = -2\\sum_{i=1}^n(y_i - \\hat{B_0} - \\hat{B_1}x_i)x_i$$\n",
    "\n",
    "Symplifying these two equations yields:\n",
    "\n",
    "$$nB_0 + B_1 \\sum_{i=1}^nx_i=\\sum_{i=1}^n y_i$$\n",
    "\n",
    "$$B_0\\sum_{i=1}^nx_i + B_1 \\sum_{i=1}^nx_i^2=\\sum_{i=1}^n y_i x_i$$\n",
    "\n",
    "These are called, _Normal Equatoins_. **Solving these equations for the unkowns:**\n",
    "\n"
   ]
  },
  {
   "cell_type": "markdown",
   "metadata": {
    "collapsed": true
   },
   "source": [
    "for the first equation, multiplying by $\\sum_{i=0}^n x_i$\n",
    "\n",
    "$$nB_0 \\sum_{i=0}^n x_i + B_1 (\\sum_{i=1}^n x_i)^2= \\sum_{i=1}^n y_i \\sum_{i=1}^n x_i$$\n",
    "\n",
    "for the second equation, multiplying by $n$\n",
    "$$nB_0\\sum_{i=1}^n x_i + nB_1 \\sum_{i=1}^nx_i^2= n \\sum_{i=1}^n y_i x_i$$"
   ]
  },
  {
   "cell_type": "markdown",
   "metadata": {},
   "source": [
    "subtracting both equations:\n",
    "\n",
    "$$B_1(n \\sum_{i=1}^n x_i^2 - (\\sum_{i=0}^n x_i)^2) = n \\sum_{i=1}^n y_i x_i - (\\sum_{i=1}^n y_i \\sum_{i=1}^n x_i)$$ "
   ]
  },
  {
   "cell_type": "markdown",
   "metadata": {},
   "source": [
    "Finally, $B_1$ is:\n",
    "\n",
    "$$B_1 = \\frac{n \\sum_{i=1}^n y_i x_i - (\\sum_{i=1}^n y_i \\sum_{i=1}^n x_i)}{n \\sum_{i=1}^n x_i^2 - (\\sum_{i=0}^n x_i)^2}$$"
   ]
  },
  {
   "cell_type": "markdown",
   "metadata": {
    "collapsed": true
   },
   "source": [
    "We can, moreover, do the same to find $B_0$. But we know that $B_0$ is the intercept of the line. Therefore, after finding the slope of the line, we can use it to estimate the optimal intercept from the following equation:"
   ]
  },
  {
   "cell_type": "markdown",
   "metadata": {},
   "source": [
    "$$B_0 = \\bar y - B_1 \\bar x$$\n",
    "where $\\bar y$ represents the mean of the output vector, and $\\bar x$ represents the mean of the input vector."
   ]
  },
  {
   "cell_type": "markdown",
   "metadata": {},
   "source": [
    "We are, in this context, more convertable with $w_0, w_1$ notations to represent the weights of our model i.e. the slope and the intercept of the true model. Thus, we can re-write these equations as follows:"
   ]
  },
  {
   "cell_type": "markdown",
   "metadata": {},
   "source": [
    "<br>\n",
    "\n",
    "$$w_1 = \\frac{n \\sum_{i=1}^n y_i x_i - (\\sum_{i=1}^n y_i \\sum_{i=1}^n x_i)}{n \\sum_{i=1}^n x_i^2 - (\\sum_{i=1}^n x_i)^2}$$\n",
    "\n",
    "<br>\n",
    "\n",
    "$$w_0 = \\bar y - w_1 \\bar x$$\n",
    "\n",
    "<br>"
   ]
  },
  {
   "cell_type": "markdown",
   "metadata": {
    "collapsed": true
   },
   "source": [
    "The following code will apply these formulas to come up with a linear model for any given data with one variable, x."
   ]
  },
  {
   "cell_type": "code",
   "execution_count": 4,
   "metadata": {
    "collapsed": false
   },
   "outputs": [],
   "source": [
    "import numpy as np\n",
    "#Algorithm 1\n",
    "\n",
    "'''\n",
    ":param x: The input vector of the dataset.\n",
    ":param y: The ouput vector of the dataset.\n",
    ":return: a tuple of (w0,w1) representing the slope and the intercept of the linear model.\n",
    "'''\n",
    "\n",
    "def linear_model_generator(x,y):\n",
    "    #insure that the x and y vectors are numpy arrays:\n",
    "    x = np.array(x)\n",
    "    y = np.array(y)\n",
    "    \n",
    "    #setting up the equations parameters.\n",
    "    n = len(x)\n",
    "    xy_sum = (x*y).sum()\n",
    "    x_sum = x.sum()\n",
    "    y_sum = y.sum()\n",
    "    x2_sum = (x*x).sum()\n",
    "    x_mean = x.mean()\n",
    "    y_mean = y.mean()\n",
    "    \n",
    "    #calculate slope\n",
    "    numerator = (n*xy_sum - (y_sum * x_sum))\n",
    "    denumerator = (n*x2_sum - x_sum**2)\n",
    "    w1 = numerator/denumerator\n",
    "    \n",
    "    #calculate intercept\n",
    "    w0 = y_mean - w1*x_mean\n",
    "    \n",
    "    return (w0,w1)\n",
    "    "
   ]
  },
  {
   "cell_type": "markdown",
   "metadata": {},
   "source": [
    "Let us come up with the model parameters, i.e. $w_0$, $w_1$, for our data set. "
   ]
  },
  {
   "cell_type": "code",
   "execution_count": 5,
   "metadata": {
    "collapsed": false
   },
   "outputs": [
    {
     "name": "stdout",
     "output_type": "stream",
     "text": [
      "model_parameters are:\n",
      "intercept: 54.5  and slope: 2\n"
     ]
    }
   ],
   "source": [
    "model_parameters = linear_model_generator(simple_model['x'],simple_model['y'])\n",
    "print 'model_parameters are:\\nintercept:', model_parameters[0],' and slope:',model_parameters[1]"
   ]
  },
  {
   "cell_type": "markdown",
   "metadata": {},
   "source": [
    "Let us visualize our model on the dataset:"
   ]
  },
  {
   "cell_type": "code",
   "execution_count": 6,
   "metadata": {
    "collapsed": false
   },
   "outputs": [
    {
     "data": {
      "image/png": "[encoded data removed]",
      "text/plain": [
       "<matplotlib.figure.Figure at 0x7f297ab42290>"
      ]
     },
     "metadata": {},
     "output_type": "display_data"
    }
   ],
   "source": [
    "plt.plot(simple_model_data_frame['x'], simple_model_data_frame['y'], '+')\n",
    "\n",
    "# this code is to get the x axis values.\n",
    "axes = plt.gca()\n",
    "x_vals = np.array(axes.get_xlim())\n",
    "\n",
    "# this code is defining the model parameters\n",
    "y_vals = model_parameters[0] + model_parameters[1] * x_vals\n",
    "\n",
    "# this line is printing the line to the screen\n",
    "plt.plot(x_vals, y_vals, '-')\n",
    "\n",
    "plt.show()"
   ]
  },
  {
   "cell_type": "markdown",
   "metadata": {},
   "source": [
    "An important measure to charachterize a model is the **RSS**, the residual sum of error squares. since we have generated an optimal parameters, we are claiming that our linear model has the smallest RSS value among other linear models. The following code will output the RSS value for a given linear model, you can try other lines but RSS is never less than this model."
   ]
  },
  {
   "cell_type": "code",
   "execution_count": 7,
   "metadata": {
    "collapsed": true
   },
   "outputs": [],
   "source": [
    "\n",
    "#Algorithm 2\n",
    "\n",
    "def calculate_RSS_for_linear_model (intercept, slope, input_data ,real_data_output):\n",
    "    '''\n",
    "    :param intercept: The intercept of the line.\n",
    "    :param y: The slope of the line.\n",
    "    :return: an RSS value.\n",
    "    '''\n",
    "    \n",
    "    #calculate the model output\n",
    "    predictions = intercept+slope*input_data\n",
    "    \n",
    "    #subtract model output from the true  output to get the erorr\n",
    "    erorrs = predictions - real_data_output\n",
    "    \n",
    "    #square each error in the error vector\n",
    "    erorrs = erorrs **2\n",
    "    \n",
    "    #sum the errors squared vector to get RSS\n",
    "    RSS = erorrs.sum()\n",
    "    \n",
    "    return RSS\n",
    "    \n"
   ]
  },
  {
   "cell_type": "markdown",
   "metadata": {
    "collapsed": true
   },
   "source": [
    "following are some linear models RSS along side our model.\n"
   ]
  },
  {
   "cell_type": "code",
   "execution_count": 8,
   "metadata": {
    "collapsed": false
   },
   "outputs": [
    {
     "name": "stdout",
     "output_type": "stream",
     "text": [
      "RSS for the optimal model: 78.0\n",
      "RSS for other models\n",
      "800\n",
      "863.0\n",
      "4943564\n",
      "40124\n",
      "255.314\n"
     ]
    }
   ],
   "source": [
    "print 'RSS for the optimal model:',calculate_RSS_for_linear_model(model_parameters[0], model_parameters[1], simple_model_data_frame['x'], simple_model_data_frame['y'])\n",
    "\n",
    "print 'RSS for other models'\n",
    "\n",
    "print calculate_RSS_for_linear_model(45, 2, simple_model_data_frame['x'], simple_model_data_frame['y'])\n",
    "\n",
    "print calculate_RSS_for_linear_model(4.5, 4.5, simple_model_data_frame['x'], simple_model_data_frame['y'])\n",
    "\n",
    "print calculate_RSS_for_linear_model(45, 45, simple_model_data_frame['x'], simple_model_data_frame['y'])\n",
    "\n",
    "print calculate_RSS_for_linear_model(2, 1, simple_model_data_frame['x'], simple_model_data_frame['y'])\n",
    "\n",
    "print calculate_RSS_for_linear_model(52, 1.89, simple_model_data_frame['x'], simple_model_data_frame['y'])\n"
   ]
  },
  {
   "cell_type": "markdown",
   "metadata": {},
   "source": [
    "### Non-linear Models with One Independent Variable"
   ]
  },
  {
   "cell_type": "markdown",
   "metadata": {},
   "source": [
    "As we saw in the previous section, linear models are easy to compute. However, not all data have a linear relationship between its variables! Actually, there is a big set of data having a non-linear relationship. Let us go back with are generated example(`simple_model_data_frame`). Assume that the data provider tackles more tests and compe up with this completion to the original dataset given earlier."
   ]
  },
  {
   "cell_type": "code",
   "execution_count": 9,
   "metadata": {
    "collapsed": false
   },
   "outputs": [
    {
     "data": {
      "text/plain": [
       "[<matplotlib.lines.Line2D at 0x7f297a786790>]"
      ]
     },
     "execution_count": 9,
     "metadata": {},
     "output_type": "execute_result"
    },
    {
     "data": {
      "image/png": "[encoded data removed]",
      "text/plain": [
       "<matplotlib.figure.Figure at 0x7f297a841c90>"
      ]
     },
     "metadata": {},
     "output_type": "display_data"
    }
   ],
   "source": [
    "extentions = pd.DataFrame({'x':[15, 8, 21, 24, 13], 'y': [81, 76, 97, 108, 79]})\n",
    "\n",
    "extended_simple_model_data_frame = simple_model_data_frame.append(extentions, True)\n",
    "\n",
    "plt.plot(extended_simple_model_data_frame['x'], extended_simple_model_data_frame['y'], '+')"
   ]
  },
  {
   "cell_type": "markdown",
   "metadata": {},
   "source": [
    "By ploting the data againist the non-dependent variable, we can convince ourself that a kind of parabolic relationship exists. **How can we derive an optimal model for such relationships??**"
   ]
  },
  {
   "cell_type": "markdown",
   "metadata": {},
   "source": [
    "A good answer for this question is to optimize our loss, RSS, function we derive it in the previous part. By optimizing the loss function ,we will come up with the best model parameters. However, there are few notes to say:\n",
    "- Any quadratic function $ax^2 + bx + c$ has three parameters, a,b and c. In our case, we are following the convensions of calling them $w_0$, $w_1$, and $w_2$. It is easily visualized as a vector of W's. let us call it ** The Weight vector**.\n",
    "- Optimizing the previous loss, RSS, function requires matrix manipulation and derivation, which might be a new concept but not hard to understand.\n",
    "- It is important to notice that when calculating the predictions of the model, the transposed weights vector is multiplied by the $x_i$ sample. where $x_i$ is the row $i$ from the design matrix (i.e. the features matrix). consequently, the weights vector must have a length equal to the number of features + 1 \"for the intercept\". Recall that matrix transpose $A^T$ is the same matrix $A$ values, but columns become rows and vice versa.\n",
    "- It is also imporatant to notice that the term of the loss function $(y_i - \\hat{y}_{i})^2$ is a scalar. Although it contains matrecies.\n",
    "\n",
    "We are transpoing the weights vector to do inner product. **Inner product will output only one value while outer product** \" multipling the weights vector by the feature matrxi without transposing\"** will produce a vector not a single value.**\n",
    "\n",
    "Recall that matrix transpose operation is no thing but converting columns to rows and rows to columns."
   ]
  },
  {
   "cell_type": "markdown",
   "metadata": {
    "collapsed": true
   },
   "source": [
    "Recalling back, the loss function is :"
   ]
  },
  {
   "cell_type": "markdown",
   "metadata": {},
   "source": [
    "$$S = \\sum_{i=1}^n \\epsilon^2 = \\sum_{i=1}^n(y_i - \\hat{y}_{i})^2$$\n",
    "OR\n",
    "$$S = \\sum_{i=1}^n \\epsilon^2 = (Y - (W^TX))^2$$\n",
    "\n",
    "where $W$ is the weights vector, $x_i$ is the design matrix and $y_i$ is the true output vector."
   ]
  },
  {
   "cell_type": "markdown",
   "metadata": {},
   "source": [
    "since the term $( - (W^TX))^2$ is scalar, and the scalar and its transpose are equal, The loss function can be re-written as:"
   ]
  },
  {
   "cell_type": "markdown",
   "metadata": {
    "collapsed": true
   },
   "source": [
    "$$S = \\sum_{i=1}^n \\epsilon^2 = (Y- (W^TX))^T(Y - (W^TX))$$"
   ]
  },
  {
   "cell_type": "markdown",
   "metadata": {},
   "source": [
    "Optimizing this loss function to get an optimal value for RSS:"
   ]
  },
  {
   "cell_type": "markdown",
   "metadata": {},
   "source": [
    "$$S = (Y - (W^TX))^T(Y - (W^TX))$$\n",
    "- distribute the Transpose operation over the terms:\n",
    "\n",
    "\n",
    "$$S = (Y^T - (W^TX)^T)(Y - (W^TX))$$\n",
    "- distribute the Transpose again in the inner term:\n",
    "\n",
    "\n",
    "$$S = (Y^T - (X^TW))(Y - (W^TX))$$\n",
    "- multiply both terms:\n",
    "\n",
    "\n",
    "$$S = (Y^TY - Y^T(W^TX))-(X^TWY - X^TW(W^TX))$$\n",
    "- re-write the equation:\n",
    "\n",
    "\n",
    "$$S = (Y^TY - Y^TW^TX)-(X^TWY - X^TW^TWX)$$\n",
    "\n",
    "\n",
    "- since $Y^TW^TX = X^TWY$, \" they are two vectors multiplied by thier transpose interchangeably\", we can furhter simplify\n",
    "and write the previous equation as:\n",
    "\n",
    "\n",
    "$$S = (Y^TY - 2X^TWY + X^TW^TWX)$$\n",
    "\n",
    "\n",
    "Recall that $x^TW^TWx$ is a matrix written in the quadratic form. It has the same derivative as $x^2$ where $x$ is the unkwown $w$.\n",
    "\n",
    "\n"
   ]
  },
  {
   "cell_type": "markdown",
   "metadata": {},
   "source": [
    "**Now**, this equation can be derived to find the best values for $W$ as follows:\n",
    "\n",
    "\n",
    "$$\\frac{\\partial S}{\\partial W}= (0 - 2X^TY + 2X^TXW)$$\n",
    "\n",
    "Equate this result with ZERO to find the optimal point:\n",
    "\n",
    "$$\\frac{\\partial S}{\\partial W}= (-X^TY + X^TXW) = 0$$\n",
    "\n",
    "$$(X^TXW) = X^TY$$\n",
    "\n",
    "\n",
    "** Therefore, Otpimal values for the weights vector are:**\n",
    "\n",
    "$$W = (X^TX)^{-1}X^TY$$"
   ]
  },
  {
   "cell_type": "markdown",
   "metadata": {},
   "source": [
    "Let us write this result in a python code and test it on our data to see the results:"
   ]
  },
  {
   "cell_type": "code",
   "execution_count": 102,
   "metadata": {
    "collapsed": true
   },
   "outputs": [],
   "source": [
    "#Algorithm 3\n",
    "\n",
    "def second_order_model_generator (x ,y):\n",
    "    '''\n",
    "    :param x: The design matrix.\n",
    "    :param y: output vector.\n",
    "    :return: a second order model parameters, w0, w1 and w2.\n",
    "    '''\n",
    "    #insure that the x and y vectors are numpy arrays:\n",
    "    x = np.array(x)\n",
    "    y = np.array(y)\n",
    "    \n",
    "    #calculate xt\n",
    "    xt = np.transpose(x);\n",
    "    \n",
    "    #calculate xtx\n",
    "    \n",
    "    xtx = np.matmul(xt, x)\n",
    "    \n",
    "    #invert xtx\n",
    "    #first convert xtx matrix to intergers.\n",
    "    xtx = xtx.astype(np.int)\n",
    "    #then, do the inversion operation.\n",
    "    xtx_inv = np.invert(xtx)\n",
    "    \n",
    "    #find out W\n",
    "    w = np.matmul(np.matmul(xtx_inv,xt), y)\n",
    "    \n",
    "    return w"
   ]
  },
  {
   "cell_type": "markdown",
   "metadata": {},
   "source": [
    "Let us now apply this function on our data. However, before using the algorihtm, we should be aware that our orignal data contains only a single vector of x and the model we want to come up with is a quadratic mode, therefore, we need to introduce two other vectors to the input vector ,x, and create an input matrix call it input_matrix. This second vector is initialized to to be x^2 \"squaring the origianl vector\" and the first one is initialized to be zeros."
   ]
  },
  {
   "cell_type": "code",
   "execution_count": 103,
   "metadata": {
    "collapsed": false
   },
   "outputs": [
    {
     "name": "stdout",
     "output_type": "stream",
     "text": [
      "[[   1.   11.  121.]\n",
      " [   1.   23.  529.]\n",
      " [   1.   17.  289.]\n",
      " [   1.   14.  196.]\n",
      " [   1.   25.  625.]\n",
      " [   1.   18.  324.]\n",
      " [   1.   16.  256.]\n",
      " [   1.   20.  400.]\n",
      " [   1.   15.  225.]\n",
      " [   1.    8.   64.]\n",
      " [   1.   21.  441.]\n",
      " [   1.   24.  576.]\n",
      " [   1.   13.  169.]]\n",
      "model_parameters are: [ -1.70368509e+09  -3.38891771e+10  -7.05795370e+11]\n"
     ]
    }
   ],
   "source": [
    "n = len(extended_simple_model_data_frame['x'])\n",
    "input_matrix = np.matrix([np.ones(n), extended_simple_model_data_frame['x'], extended_simple_model_data_frame['x']**2])\n",
    "input_matrix = input_matrix.transpose()\n",
    "\n",
    "print input_matrix\n",
    "\n",
    "\n",
    "second_order_model_parameters = second_order_model_generator(input_matrix,extended_simple_model_data_frame['y'])\n",
    "print 'model_parameters are:', second_order_model_parameters"
   ]
  },
  {
   "cell_type": "code",
   "execution_count": 87,
   "metadata": {
    "collapsed": true
   },
   "outputs": [],
   "source": [
    "def predict_output(x, w):\n",
    "    #insure that the x and y vectors are numpy arrays:\n",
    "    x = np.array(x)\n",
    "    w = np.array(w)\n",
    "    \n",
    "    #Transpose w\n",
    "    wt = w.transpose()\n",
    "    \n",
    "    predictions = x.dot(wt)\n",
    "    \n",
    "#     predictions = []\n",
    "#     #predict output by doing dot product\n",
    "#     for i in x:\n",
    "#         predictions.append(wt.dot(i))\n",
    "    \n",
    "    return predictions\n",
    "    "
   ]
  },
  {
   "cell_type": "code",
   "execution_count": 88,
   "metadata": {
    "collapsed": false
   },
   "outputs": [
    {
     "name": "stdout",
     "output_type": "stream",
     "text": [
      "[ -8.57757244e+13  -3.74146905e+14  -2.04552682e+14  -1.38812045e+14\n",
      "  -4.41971039e+14  -2.29289409e+14  -1.81227545e+14  -2.82997635e+14\n",
      "  -1.59314000e+14  -4.54437208e+13  -3.11969134e+14  -4.07353177e+14\n",
      "  -1.19721680e+14]\n"
     ]
    },
    {
     "ename": "ValueError",
     "evalue": "x and y must have same first dimension",
     "output_type": "error",
     "traceback": [
      "\u001b[1;31m---------------------------------------------------------------------------\u001b[0m",
      "\u001b[1;31mValueError\u001b[0m                                Traceback (most recent call last)",
      "\u001b[1;32m<ipython-input-88-9790bfa28dab>\u001b[0m in \u001b[0;36m<module>\u001b[1;34m()\u001b[0m\n\u001b[0;32m     12\u001b[0m \u001b[1;32mprint\u001b[0m \u001b[0my_vals\u001b[0m\u001b[1;33m\u001b[0m\u001b[0m\n\u001b[0;32m     13\u001b[0m \u001b[1;31m# this line is printing the line to the screen\u001b[0m\u001b[1;33m\u001b[0m\u001b[1;33m\u001b[0m\u001b[0m\n\u001b[1;32m---> 14\u001b[1;33m \u001b[0mplt\u001b[0m\u001b[1;33m.\u001b[0m\u001b[0mplot\u001b[0m\u001b[1;33m(\u001b[0m\u001b[0mx_vals\u001b[0m\u001b[1;33m,\u001b[0m \u001b[0my_vals\u001b[0m\u001b[1;33m,\u001b[0m \u001b[1;34m'-'\u001b[0m\u001b[1;33m)\u001b[0m\u001b[1;33m\u001b[0m\u001b[0m\n\u001b[0m\u001b[0;32m     15\u001b[0m \u001b[1;33m\u001b[0m\u001b[0m\n\u001b[0;32m     16\u001b[0m \u001b[0mplt\u001b[0m\u001b[1;33m.\u001b[0m\u001b[0mshow\u001b[0m\u001b[1;33m(\u001b[0m\u001b[1;33m)\u001b[0m\u001b[1;33m\u001b[0m\u001b[0m\n",
      "\u001b[1;32m/home/magedsaeed/anaconda2/lib/python2.7/site-packages/matplotlib/pyplot.pyc\u001b[0m in \u001b[0;36mplot\u001b[1;34m(*args, **kwargs)\u001b[0m\n\u001b[0;32m   3152\u001b[0m         \u001b[0max\u001b[0m\u001b[1;33m.\u001b[0m\u001b[0mhold\u001b[0m\u001b[1;33m(\u001b[0m\u001b[0mhold\u001b[0m\u001b[1;33m)\u001b[0m\u001b[1;33m\u001b[0m\u001b[0m\n\u001b[0;32m   3153\u001b[0m     \u001b[1;32mtry\u001b[0m\u001b[1;33m:\u001b[0m\u001b[1;33m\u001b[0m\u001b[0m\n\u001b[1;32m-> 3154\u001b[1;33m         \u001b[0mret\u001b[0m \u001b[1;33m=\u001b[0m \u001b[0max\u001b[0m\u001b[1;33m.\u001b[0m\u001b[0mplot\u001b[0m\u001b[1;33m(\u001b[0m\u001b[1;33m*\u001b[0m\u001b[0margs\u001b[0m\u001b[1;33m,\u001b[0m \u001b[1;33m**\u001b[0m\u001b[0mkwargs\u001b[0m\u001b[1;33m)\u001b[0m\u001b[1;33m\u001b[0m\u001b[0m\n\u001b[0m\u001b[0;32m   3155\u001b[0m     \u001b[1;32mfinally\u001b[0m\u001b[1;33m:\u001b[0m\u001b[1;33m\u001b[0m\u001b[0m\n\u001b[0;32m   3156\u001b[0m         \u001b[0max\u001b[0m\u001b[1;33m.\u001b[0m\u001b[0mhold\u001b[0m\u001b[1;33m(\u001b[0m\u001b[0mwashold\u001b[0m\u001b[1;33m)\u001b[0m\u001b[1;33m\u001b[0m\u001b[0m\n",
      "\u001b[1;32m/home/magedsaeed/anaconda2/lib/python2.7/site-packages/matplotlib/__init__.pyc\u001b[0m in \u001b[0;36minner\u001b[1;34m(ax, *args, **kwargs)\u001b[0m\n\u001b[0;32m   1810\u001b[0m                     warnings.warn(msg % (label_namer, func.__name__),\n\u001b[0;32m   1811\u001b[0m                                   RuntimeWarning, stacklevel=2)\n\u001b[1;32m-> 1812\u001b[1;33m             \u001b[1;32mreturn\u001b[0m \u001b[0mfunc\u001b[0m\u001b[1;33m(\u001b[0m\u001b[0max\u001b[0m\u001b[1;33m,\u001b[0m \u001b[1;33m*\u001b[0m\u001b[0margs\u001b[0m\u001b[1;33m,\u001b[0m \u001b[1;33m**\u001b[0m\u001b[0mkwargs\u001b[0m\u001b[1;33m)\u001b[0m\u001b[1;33m\u001b[0m\u001b[0m\n\u001b[0m\u001b[0;32m   1813\u001b[0m         \u001b[0mpre_doc\u001b[0m \u001b[1;33m=\u001b[0m \u001b[0minner\u001b[0m\u001b[1;33m.\u001b[0m\u001b[0m__doc__\u001b[0m\u001b[1;33m\u001b[0m\u001b[0m\n\u001b[0;32m   1814\u001b[0m         \u001b[1;32mif\u001b[0m \u001b[0mpre_doc\u001b[0m \u001b[1;32mis\u001b[0m \u001b[0mNone\u001b[0m\u001b[1;33m:\u001b[0m\u001b[1;33m\u001b[0m\u001b[0m\n",
      "\u001b[1;32m/home/magedsaeed/anaconda2/lib/python2.7/site-packages/matplotlib/axes/_axes.pyc\u001b[0m in \u001b[0;36mplot\u001b[1;34m(self, *args, **kwargs)\u001b[0m\n\u001b[0;32m   1422\u001b[0m             \u001b[0mkwargs\u001b[0m\u001b[1;33m[\u001b[0m\u001b[1;34m'color'\u001b[0m\u001b[1;33m]\u001b[0m \u001b[1;33m=\u001b[0m \u001b[0mc\u001b[0m\u001b[1;33m\u001b[0m\u001b[0m\n\u001b[0;32m   1423\u001b[0m \u001b[1;33m\u001b[0m\u001b[0m\n\u001b[1;32m-> 1424\u001b[1;33m         \u001b[1;32mfor\u001b[0m \u001b[0mline\u001b[0m \u001b[1;32min\u001b[0m \u001b[0mself\u001b[0m\u001b[1;33m.\u001b[0m\u001b[0m_get_lines\u001b[0m\u001b[1;33m(\u001b[0m\u001b[1;33m*\u001b[0m\u001b[0margs\u001b[0m\u001b[1;33m,\u001b[0m \u001b[1;33m**\u001b[0m\u001b[0mkwargs\u001b[0m\u001b[1;33m)\u001b[0m\u001b[1;33m:\u001b[0m\u001b[1;33m\u001b[0m\u001b[0m\n\u001b[0m\u001b[0;32m   1425\u001b[0m             \u001b[0mself\u001b[0m\u001b[1;33m.\u001b[0m\u001b[0madd_line\u001b[0m\u001b[1;33m(\u001b[0m\u001b[0mline\u001b[0m\u001b[1;33m)\u001b[0m\u001b[1;33m\u001b[0m\u001b[0m\n\u001b[0;32m   1426\u001b[0m             \u001b[0mlines\u001b[0m\u001b[1;33m.\u001b[0m\u001b[0mappend\u001b[0m\u001b[1;33m(\u001b[0m\u001b[0mline\u001b[0m\u001b[1;33m)\u001b[0m\u001b[1;33m\u001b[0m\u001b[0m\n",
      "\u001b[1;32m/home/magedsaeed/anaconda2/lib/python2.7/site-packages/matplotlib/axes/_base.pyc\u001b[0m in \u001b[0;36m_grab_next_args\u001b[1;34m(self, *args, **kwargs)\u001b[0m\n\u001b[0;32m    384\u001b[0m                 \u001b[1;32mreturn\u001b[0m\u001b[1;33m\u001b[0m\u001b[0m\n\u001b[0;32m    385\u001b[0m             \u001b[1;32mif\u001b[0m \u001b[0mlen\u001b[0m\u001b[1;33m(\u001b[0m\u001b[0mremaining\u001b[0m\u001b[1;33m)\u001b[0m \u001b[1;33m<=\u001b[0m \u001b[1;36m3\u001b[0m\u001b[1;33m:\u001b[0m\u001b[1;33m\u001b[0m\u001b[0m\n\u001b[1;32m--> 386\u001b[1;33m                 \u001b[1;32mfor\u001b[0m \u001b[0mseg\u001b[0m \u001b[1;32min\u001b[0m \u001b[0mself\u001b[0m\u001b[1;33m.\u001b[0m\u001b[0m_plot_args\u001b[0m\u001b[1;33m(\u001b[0m\u001b[0mremaining\u001b[0m\u001b[1;33m,\u001b[0m \u001b[0mkwargs\u001b[0m\u001b[1;33m)\u001b[0m\u001b[1;33m:\u001b[0m\u001b[1;33m\u001b[0m\u001b[0m\n\u001b[0m\u001b[0;32m    387\u001b[0m                     \u001b[1;32myield\u001b[0m \u001b[0mseg\u001b[0m\u001b[1;33m\u001b[0m\u001b[0m\n\u001b[0;32m    388\u001b[0m                 \u001b[1;32mreturn\u001b[0m\u001b[1;33m\u001b[0m\u001b[0m\n",
      "\u001b[1;32m/home/magedsaeed/anaconda2/lib/python2.7/site-packages/matplotlib/axes/_base.pyc\u001b[0m in \u001b[0;36m_plot_args\u001b[1;34m(self, tup, kwargs)\u001b[0m\n\u001b[0;32m    362\u001b[0m             \u001b[0mx\u001b[0m\u001b[1;33m,\u001b[0m \u001b[0my\u001b[0m \u001b[1;33m=\u001b[0m \u001b[0mindex_of\u001b[0m\u001b[1;33m(\u001b[0m\u001b[0mtup\u001b[0m\u001b[1;33m[\u001b[0m\u001b[1;33m-\u001b[0m\u001b[1;36m1\u001b[0m\u001b[1;33m]\u001b[0m\u001b[1;33m)\u001b[0m\u001b[1;33m\u001b[0m\u001b[0m\n\u001b[0;32m    363\u001b[0m \u001b[1;33m\u001b[0m\u001b[0m\n\u001b[1;32m--> 364\u001b[1;33m         \u001b[0mx\u001b[0m\u001b[1;33m,\u001b[0m \u001b[0my\u001b[0m \u001b[1;33m=\u001b[0m \u001b[0mself\u001b[0m\u001b[1;33m.\u001b[0m\u001b[0m_xy_from_xy\u001b[0m\u001b[1;33m(\u001b[0m\u001b[0mx\u001b[0m\u001b[1;33m,\u001b[0m \u001b[0my\u001b[0m\u001b[1;33m)\u001b[0m\u001b[1;33m\u001b[0m\u001b[0m\n\u001b[0m\u001b[0;32m    365\u001b[0m \u001b[1;33m\u001b[0m\u001b[0m\n\u001b[0;32m    366\u001b[0m         \u001b[1;32mif\u001b[0m \u001b[0mself\u001b[0m\u001b[1;33m.\u001b[0m\u001b[0mcommand\u001b[0m \u001b[1;33m==\u001b[0m \u001b[1;34m'plot'\u001b[0m\u001b[1;33m:\u001b[0m\u001b[1;33m\u001b[0m\u001b[0m\n",
      "\u001b[1;32m/home/magedsaeed/anaconda2/lib/python2.7/site-packages/matplotlib/axes/_base.pyc\u001b[0m in \u001b[0;36m_xy_from_xy\u001b[1;34m(self, x, y)\u001b[0m\n\u001b[0;32m    221\u001b[0m         \u001b[0my\u001b[0m \u001b[1;33m=\u001b[0m \u001b[0m_check_1d\u001b[0m\u001b[1;33m(\u001b[0m\u001b[0my\u001b[0m\u001b[1;33m)\u001b[0m\u001b[1;33m\u001b[0m\u001b[0m\n\u001b[0;32m    222\u001b[0m         \u001b[1;32mif\u001b[0m \u001b[0mx\u001b[0m\u001b[1;33m.\u001b[0m\u001b[0mshape\u001b[0m\u001b[1;33m[\u001b[0m\u001b[1;36m0\u001b[0m\u001b[1;33m]\u001b[0m \u001b[1;33m!=\u001b[0m \u001b[0my\u001b[0m\u001b[1;33m.\u001b[0m\u001b[0mshape\u001b[0m\u001b[1;33m[\u001b[0m\u001b[1;36m0\u001b[0m\u001b[1;33m]\u001b[0m\u001b[1;33m:\u001b[0m\u001b[1;33m\u001b[0m\u001b[0m\n\u001b[1;32m--> 223\u001b[1;33m             \u001b[1;32mraise\u001b[0m \u001b[0mValueError\u001b[0m\u001b[1;33m(\u001b[0m\u001b[1;34m\"x and y must have same first dimension\"\u001b[0m\u001b[1;33m)\u001b[0m\u001b[1;33m\u001b[0m\u001b[0m\n\u001b[0m\u001b[0;32m    224\u001b[0m         \u001b[1;32mif\u001b[0m \u001b[0mx\u001b[0m\u001b[1;33m.\u001b[0m\u001b[0mndim\u001b[0m \u001b[1;33m>\u001b[0m \u001b[1;36m2\u001b[0m \u001b[1;32mor\u001b[0m \u001b[0my\u001b[0m\u001b[1;33m.\u001b[0m\u001b[0mndim\u001b[0m \u001b[1;33m>\u001b[0m \u001b[1;36m2\u001b[0m\u001b[1;33m:\u001b[0m\u001b[1;33m\u001b[0m\u001b[0m\n\u001b[0;32m    225\u001b[0m             \u001b[1;32mraise\u001b[0m \u001b[0mValueError\u001b[0m\u001b[1;33m(\u001b[0m\u001b[1;34m\"x and y can be no greater than 2-D\"\u001b[0m\u001b[1;33m)\u001b[0m\u001b[1;33m\u001b[0m\u001b[0m\n",
      "\u001b[1;31mValueError\u001b[0m: x and y must have same first dimension"
     ]
    },
    {
     "data": {
      "image/png": "[encoded data removed]",
      "text/plain": [
       "<matplotlib.figure.Figure at 0x7f297a4ed3d0>"
      ]
     },
     "metadata": {},
     "output_type": "display_data"
    }
   ],
   "source": [
    "\n",
    "\n",
    "plt.plot(extended_simple_model_data_frame['x'], extended_simple_model_data_frame['y'], '+')\n",
    "\n",
    "# this code is to get the x axis values.\n",
    "axes = plt.gca()\n",
    "x_vals = np.array(axes.get_xlim())\n",
    "\n",
    "# this code is defining the model parameters\n",
    "y_vals = predict_output(input_matrix, second_order_model_parameters)\n",
    "\n",
    "print y_vals\n",
    "# this line is printing the line to the screen\n",
    "plt.plot(x_vals, y_vals, '-')\n",
    "\n",
    "plt.show()\n"
   ]
  },
  {
   "cell_type": "code",
   "execution_count": null,
   "metadata": {
    "collapsed": true
   },
   "outputs": [],
   "source": []
  }
 ],
 "metadata": {
  "kernelspec": {
   "display_name": "Python 2",
   "language": "python",
   "name": "python2"
  },
  "language_info": {
   "codemirror_mode": {
    "name": "ipython",
    "version": 2
   },
   "file_extension": ".py",
   "mimetype": "text/x-python",
   "name": "python",
   "nbconvert_exporter": "python",
   "pygments_lexer": "ipython2",
   "version": "2.7.13"
  }
 },
 "nbformat": 4,
 "nbformat_minor": 2
}
