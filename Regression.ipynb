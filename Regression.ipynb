{
 "cells": [
  {
   "cell_type": "markdown",
   "metadata": {
    "scrolled": false
   },
   "source": [
    "# Regression\n",
    "\n",
    "Regression is a statistical concept studying any existing relationships between two or more variables. Machine Learning uses Regression techniques to derive models for the sake of analysis, predictions and classifications of a data in interest.\n",
    "Usually, in regression problems, there is one dependent variable with at least one or more independent variables. The dependend variable is refered to as **predicted, label, class, or cluster** where the independed varialbe(s) is refered to as **predector(s), regressor(s), or featrue(s)**.\n",
    "More often, data with one independed variable is not of ineteresed in _Machine Learning_ since it can be \" after a little work with statistical tools such mean, variance and covariance\" expressed or approximated by a closed form equation. The most simplest model of interest to machine learning consists of two independed variables and on dependend variable. The data is, usually, presented to us as an nd_array of featrues where each column holds a feature of the data. Classes, depended vairable, is provided as a vector of values. The feature matric is commonly known as ** Design Matrix**. Of course Machine Learning techniques are applied to a sample from the space of the univers of the given data. If we have the whole universe of the data, then one can develop a function of order n-1, where n is the Universe size, to pass by all the points of the data. Hence, it is not a learning problem rather than a calculus problem.\n",
    "\n",
    "This notes tries to give a gentle introduction to the problem of regression in machine learning along with mathematical concepts underlying them. The code for implementing their algorithms is also availbel with a great help of Anaconda3 libraries.\n",
    "\n",
    "\n"
   ]
  },
  {
   "cell_type": "code",
   "execution_count": null,
   "metadata": {
    "collapsed": true
   },
   "outputs": [],
   "source": []
  }
 ],
 "metadata": {
  "kernelspec": {
   "display_name": "Python 3",
   "language": "python",
   "name": "python3"
  },
  "language_info": {
   "codemirror_mode": {
    "name": "ipython",
    "version": 3
   },
   "file_extension": ".py",
   "mimetype": "text/x-python",
   "name": "python",
   "nbconvert_exporter": "python",
   "pygments_lexer": "ipython3",
   "version": "3.6.2"
  }
 },
 "nbformat": 4,
 "nbformat_minor": 2
}
