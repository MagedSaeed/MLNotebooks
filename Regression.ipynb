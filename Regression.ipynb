{
 "cells": [
  {
   "cell_type": "markdown",
   "metadata": {},
   "source": [
    "# Regression\n",
    "\n",
    "Regression is a statistical concept studying any existing relationships between two or more variables. Machine Learning uses Regression to derive models for the sake of analysis, predictions and classifications of a data in interest.<br>\n",
    "Usually, in regression problems, there is one dependent variable with at least one or more independent variables. The dependend variable is refered to as **predicted, label, class, or cluster** where the independed varialbe(s) is refered to as **predector(s), regressor(s), or featrue(s)**."
   ]
  },
  {
   "cell_type": "markdown",
   "metadata": {},
   "source": [
    "More often, data with one independed variable is not of great inetereset in _Machine Learning_ because:\n",
    "\n",
    "- data collected from real time problems is affected by many factors. Data appeared to be affected by only one variable is prone to uncertinity and incompleteness or, in such case, is highly propable to be deceptive!\n",
    "\n",
    "- data with one predector and one class can be solved with no much work. Actually, there is one closed form to derive the linear relationship between the predector and the class ** will be shown later **. Moreover, if that one variable appears to have a non-linear relationship with its class, this indicates another hidden feature. Sometimes, the model may produce a feature from the existing independent variable to produce a non-linear model."
   ]
  },
  {
   "cell_type": "markdown",
   "metadata": {},
   "source": [
    "Data is, usually, presented as an nd_array of featrues where each column holds a feature of the data and each row holds one instance from each feature. Classes, or depended vairable, are provided as a vector of values. The feature matrix is commonly known as ** Design Matrix**.<br>\n",
    "It is important to say that Machine Learning techniques are applied to a sample from the space of the universe of the given data. If the whole universe of the data is available, then one can drow a function of order n-1, where n is the _universe size_, to pass by all the points of the data. Hence, it is not a learning problem rather than a calculus problem, a actually a tedious one!"
   ]
  },
  {
   "cell_type": "markdown",
   "metadata": {
    "scrolled": false
   },
   "source": [
    "This notebook tries to give a gentle introduction to the problem of regression in machine learning along with mathematical concepts underlying them. The code for implementing their algorithms is also availbel with a great help of Anaconda2 libraries."
   ]
  },
  {
   "cell_type": "markdown",
   "metadata": {
    "collapsed": true
   },
   "source": [
    "### Building Up an Example\n",
    "\n",
    "To start discussing linear regression, we should have an existing data to work on. Real dataset is, of course, preferable. There are large data houses where someone can target and play with. choosing a dataset is a critical decision! some of data available on the web might be corrupted, not properly collected, or some features are missin, therefore results are inappropriate or might have a weird sense.<br>\n",
    "There are plenty of online data resources such as, just to name a few, Kaggle, Wikipedia Google could, Amazon cloud and of course Github.\n",
    "This blog is useful to look at:\n",
    "https://www.dataquest.io/blog/free-datasets-for-projects/\n"
   ]
  },
  {
   "cell_type": "markdown",
   "metadata": {},
   "source": [
    "Fortunately, scikit learn library provides bunch of datasets ready to do analisys with.<br>\n",
    "I am going, However, to choose the dataset given in the course assignments for regression problems. That is, kc_house_data.csv. I am going to import it as Panda dataframe so that it is easy to manipulate by scikit and numpy algorithms. Althought there are many other alternatives, working with Pandas data frames seems to be more convenient and the first choice to come in mind. Moreover, some other libraries, i.e. graphlab, requires a licence!"
   ]
  },
  {
   "cell_type": "code",
   "execution_count": 10,
   "metadata": {
    "collapsed": false
   },
   "outputs": [],
   "source": [
    "# Load Pandas to read the csv file. You should have that file and the ipython file in the same directory.\n",
    "import pandas as pd\n",
    "\n",
    "# This is a pretty function from Ipython library. It can be used print many formats including images as well!!\n",
    "from IPython.display import display\n",
    "\n",
    "file_name = 'kc_house_data.csv'\n",
    "data = pd.read_csv(file_name)\n",
    "\n",
    "# You can visualize the data by un/commenting the following statement:\n",
    "#display(data)\n"
   ]
  },
  {
   "cell_type": "markdown",
   "metadata": {
    "collapsed": true
   },
   "source": [
    "### Linear Regression with only one variable\n",
    "\n",
    "Let us start our discussion of regression algorithms on data having only one independent variable. Suppose that you are given the following data:"
   ]
  },
  {
   "cell_type": "code",
   "execution_count": 16,
   "metadata": {
    "collapsed": false
   },
   "outputs": [],
   "source": [
    "simple_model = {'x':[11, 23, 17, 14, 25, 18, 16, 20], 'y':[77, 103, 85, 81, 110, 91, 83, 93]}\n",
    "simple_model_data_frame = pd.DataFrame(data=simple_model)\n",
    "\n",
    "#display(df_one_variable_reg)"
   ]
  },
  {
   "cell_type": "markdown",
   "metadata": {},
   "source": [
    "let us plot this data against the independent variable:"
   ]
  },
  {
   "cell_type": "code",
   "execution_count": 27,
   "metadata": {
    "collapsed": false,
    "scrolled": true
   },
   "outputs": [
    {
     "data": {
      "text/plain": [
       "[<matplotlib.lines.Line2D at 0x7f91e2294bd0>]"
      ]
     },
     "execution_count": 27,
     "metadata": {},
     "output_type": "execute_result"
    },
    {
     "data": {
      "image/png": "[encoded data removed]",
      "text/plain": [
       "<matplotlib.figure.Figure at 0x7f91e237e8d0>"
      ]
     },
     "metadata": {},
     "output_type": "display_data"
    }
   ],
   "source": [
    "import matplotlib.pyplot as plt\n",
    "%matplotlib inline\n",
    "\n",
    "plt.ylim(70,115)\n",
    "plt.plot(simple_model_data_frame['x'], simple_model_data_frame['y'], '+')"
   ]
  },
  {
   "cell_type": "markdown",
   "metadata": {},
   "source": [
    "for this simple dataset, a linear relationship between $x$ and $y$ is easily observed. _Is there a possibility to drow a line that matches all the $x$ points to their associated $y$ points?_ clearly the answer is _NO_. Data are not distributed uniformly along a straight line.\n",
    "\n",
    "However, there exists lines such that the difference between the true $y$ and there predictions values $\\hat{y}$ are minimal. This differene is refered to as __Residual Sum of error Squares or RSS.__\n",
    "\n",
    "**How to come up with such line??**\n",
    "\n",
    "to start deriving the equation, let us say that $\\hat{B_0}$ and $\\hat{B_1}$ represents the intercept and slope of the true model with minimal _RSS_. then:\n",
    "\n",
    "The sum of squares of errors between true values and that line is:"
   ]
  },
  {
   "cell_type": "markdown",
   "metadata": {},
   "source": [
    "$$S = \\sum_{i=1}^n \\epsilon^2 = \\sum_{i=1}^n(y_i - \\hat{y}_{i})^2$$\n",
    "OR\n",
    "$$S = \\sum_{i=1}^n \\epsilon^2 = \\sum_{i=1}^n(y_i - (B_0 +B_1x_i))^2$$"
   ]
  },
  {
   "cell_type": "markdown",
   "metadata": {},
   "source": [
    "Here, we are squaring the error for two main reasons:\n",
    "- Some errors might be positives while others might be negatives. If we did not square them, they may cancel out each other.\n",
    "- By squaring the error, we can come up with a useful formula to derive the optimal values of slope and intercept. ($x^2$) has a very nice property such that it has only one minimum , or maximum, point. Thus, it has a derivative of zero somewhere."
   ]
  },
  {
   "cell_type": "markdown",
   "metadata": {},
   "source": [
    "By optimizing these parameters to reach an optimal point for $S$.\n",
    "Our main is to find a zero RSS or a minimum RSS. Therefore, we can equate RSS to zero and take derivative for both sides. the following equations are obtained.\n",
    "\n",
    "So, for $B_0$:\n",
    "$$\\frac{\\partial S}{\\partial B_0} = -2\\sum_{i=1}^n(y_i - \\hat{B_0} - \\hat{B_1}x_i)$$\n",
    "\n",
    "and for $B_1$:\n",
    "$$\\frac{\\partial S}{\\partial B_1} = -2\\sum_{i=1}^n(y_i - \\hat{B_0} - \\hat{B_1}x_i)x_i$$\n",
    "\n",
    "Symplifying these two equations yields:\n",
    "\n",
    "$$nB_0 + B_1 \\sum_{i=1}^nx_i=\\sum_{i=1}^n y_i$$\n",
    "\n",
    "$$B_0\\sum_{i=1}^nx_i + B_1 \\sum_{i=1}^nx_i^2=\\sum_{i=1}^n y_i x_i$$\n",
    "\n",
    "These are called, _Normal Equatoins_. **Solving these equations for the unkowns:**\n",
    "\n"
   ]
  },
  {
   "cell_type": "markdown",
   "metadata": {
    "collapsed": true
   },
   "source": [
    "for the first equation, multiplying by $\\sum_{i=0}^n x_i$\n",
    "\n",
    "$$nB_0 \\sum_{i=0}^n x_i + B_1 (\\sum_{i=1}^n x_i)^2= \\sum_{i=1}^n y_i \\sum_{i=1}^n x_i$$\n",
    "\n",
    "for the second equation, multiplying by $n$\n",
    "$$nB_0\\sum_{i=1}^n x_i + nB_1 \\sum_{i=1}^nx_i^2= n \\sum_{i=1}^n y_i x_i$$"
   ]
  },
  {
   "cell_type": "markdown",
   "metadata": {},
   "source": [
    "subtracting both equations:\n",
    "\n",
    "$$B_1(n \\sum_{i=1}^n x_i^2 - (\\sum_{i=0}^n x_i)^2) = n \\sum_{i=1}^n y_i x_i - (\\sum_{i=1}^n y_i \\sum_{i=1}^n x_i)$$ "
   ]
  },
  {
   "cell_type": "markdown",
   "metadata": {},
   "source": [
    "Finally, $B_1$ is:\n",
    "\n",
    "$$B_1 = \\frac{n \\sum_{i=1}^n y_i x_i - (\\sum_{i=1}^n y_i \\sum_{i=1}^n x_i)}{n \\sum_{i=1}^n x_i^2 - (\\sum_{i=0}^n x_i)^2}$$"
   ]
  },
  {
   "cell_type": "markdown",
   "metadata": {
    "collapsed": true
   },
   "source": [
    "We can, moreover, do the same to find $B_0$. But we know that $B_0$ is the intercept of the line. Therefore, after finding the slope of the line, we can use it to get the intercept from the following equation:"
   ]
  },
  {
   "cell_type": "markdown",
   "metadata": {},
   "source": [
    "$$B_0 = \\bar y - B_1 \\bar x$$\n",
    "where $\\bar y$ represents the mean of the output vector and $\\bar x$ represents the mean of the input vector as well."
   ]
  },
  {
   "cell_type": "markdown",
   "metadata": {},
   "source": [
    "We are, in this context, more convertable with $w_0, w_1$ notations to represent the weights of our model i.e. the slope and the intercept of the true model. Thus, we can write these equations as follows:"
   ]
  },
  {
   "cell_type": "markdown",
   "metadata": {},
   "source": [
    "<br>\n",
    "\n",
    "$$w_1 = \\frac{n \\sum_{i=1}^n y_i x_i - (\\sum_{i=1}^n y_i \\sum_{i=1}^n x_i)}{n \\sum_{i=1}^n x_i^2 - (\\sum_{i=1}^n x_i)^2}$$\n",
    "\n",
    "<br>\n",
    "\n",
    "$$w_0 = \\bar y - w_1 \\bar x$$\n",
    "\n",
    "<br>"
   ]
  },
  {
   "cell_type": "markdown",
   "metadata": {
    "collapsed": true
   },
   "source": [
    "The following code will apply these formulas to come up with a linear model for any given data with one variable, x."
   ]
  },
  {
   "cell_type": "code",
   "execution_count": 60,
   "metadata": {
    "collapsed": false
   },
   "outputs": [],
   "source": [
    "import numpy as np\n",
    "#Algorithm 1\n",
    "\n",
    "'''\n",
    ":param x: The input vector of the dataset.\n",
    ":param y: The ouput vector of the dataset.\n",
    ":return: a tuple of (w0,w1) representing the slope and the intercept of the linear model.\n",
    "'''\n",
    "\n",
    "def linear_model_generator(x,y):\n",
    "    #insure that the x and y vectors are numpy arrays:\n",
    "    x = np.array(x)\n",
    "    y = np.array(y)\n",
    "    \n",
    "    #setting up the equations parameters.\n",
    "    n = len(x)\n",
    "    xy_sum = (x*y).sum()\n",
    "    x_sum = x.sum()\n",
    "    y_sum = y.sum()\n",
    "    x2_sum = (x*x).sum()\n",
    "    x_mean = x.mean()\n",
    "    y_mean = y.mean()\n",
    "    \n",
    "    #calculate slope\n",
    "    numerator = (n*xy_sum - (y_sum * x_sum))\n",
    "    denumerator = (n*x2_sum - x_sum**2)\n",
    "    w1 = numerator/denumerator\n",
    "    \n",
    "    #calculate intercept\n",
    "    w0 = y_mean - w1*x_mean\n",
    "    \n",
    "    return (w0,w1)\n",
    "    "
   ]
  },
  {
   "cell_type": "markdown",
   "metadata": {},
   "source": [
    "Let us come up with the model parameters, i.e. $w_0$, $w_1$, for our data set. "
   ]
  },
  {
   "cell_type": "code",
   "execution_count": 58,
   "metadata": {
    "collapsed": false
   },
   "outputs": [
    {
     "name": "stdout",
     "output_type": "stream",
     "text": [
      "model_parameters are:\n",
      "intercept: 54.375  and slope: 2\n"
     ]
    }
   ],
   "source": [
    "model_parameters = linear_model_generator(simple_model['x'],simple_model['y'])\n",
    "print 'model_parameters are:\\nintercept:', model_parameters[0],' and slope:',model_parameters[1]"
   ]
  },
  {
   "cell_type": "markdown",
   "metadata": {},
   "source": [
    "Let us visualize our model on the dataset:"
   ]
  },
  {
   "cell_type": "code",
   "execution_count": 59,
   "metadata": {
    "collapsed": false
   },
   "outputs": [
    {
     "data": {
      "image/png": "[encoded data removed]",
      "text/plain": [
       "<matplotlib.figure.Figure at 0x7f91e1e81b50>"
      ]
     },
     "metadata": {},
     "output_type": "display_data"
    }
   ],
   "source": [
    "plt.plot(simple_model_data_frame['x'], simple_model_data_frame['y'], '+')\n",
    "\n",
    "# this code is to get the x axis values.\n",
    "axes = plt.gca()\n",
    "x_vals = np.array(axes.get_xlim())\n",
    "\n",
    "# this code is defining the model parameters\n",
    "y_vals = model_parameters[0] + model_parameters[1] * x_vals\n",
    "\n",
    "# this line is printing the line to the screen\n",
    "plt.plot(x_vals, y_vals, '-')\n",
    "\n",
    "plt.show()"
   ]
  },
  {
   "cell_type": "markdown",
   "metadata": {},
   "source": [
    "An important measure charachterizing a model correctness is the **RSS**, the residual sum of error squares. We are claiming that our linear model just generated has the smallest RSS value among other linear models. The following code will output the RSS value for a given model, you can try other lines but RSS is never less than this model."
   ]
  },
  {
   "cell_type": "code",
   "execution_count": 61,
   "metadata": {
    "collapsed": true
   },
   "outputs": [],
   "source": [
    "\n",
    "\n",
    "\n",
    "#Algorithm 2\n",
    "\n",
    "def calculate_RSS (intercept, slope, input_data ,real_data_output):\n",
    "    '''\n",
    "    :param intercept: The intercept of the line.\n",
    "    :param y: The slope of the line.\n",
    "    :return: an RSS value.\n",
    "    '''\n",
    "    \n"
   ]
  },
  {
   "cell_type": "code",
   "execution_count": null,
   "metadata": {
    "collapsed": true
   },
   "outputs": [],
   "source": []
  }
 ],
 "metadata": {
  "kernelspec": {
   "display_name": "Python 2",
   "language": "python",
   "name": "python2"
  },
  "language_info": {
   "codemirror_mode": {
    "name": "ipython",
    "version": 2
   },
   "file_extension": ".py",
   "mimetype": "text/x-python",
   "name": "python",
   "nbconvert_exporter": "python",
   "pygments_lexer": "ipython2",
   "version": "2.7.13"
  }
 },
 "nbformat": 4,
 "nbformat_minor": 2
}
